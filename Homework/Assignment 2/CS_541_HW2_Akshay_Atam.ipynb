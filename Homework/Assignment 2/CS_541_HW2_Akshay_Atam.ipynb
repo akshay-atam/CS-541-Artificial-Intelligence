{
 "cells": [
  {
   "cell_type": "markdown",
   "metadata": {
    "id": "Z9vH5X77EpLu"
   },
   "source": [
    "# CS 541-B Assignment 2 -- A * search and Uniform Cost Search on NYC Taxi dataset\n",
    "\n",
    "#### Name: Akshay Atam\n",
    "#### Stevens ID: 20016304"
   ]
  },
  {
   "cell_type": "markdown",
   "metadata": {
    "id": "ACGelXsAIpii"
   },
   "source": [
    "## NYC Taxi Data\n",
    "---\n",
    "The task is to perform Uniform Cost Search and A∗ search. The dataset contains a list of the taxi trips made in NYC in the January 2015. \n",
    "\n",
    "Part 1. [20 pts] Represent the data as a graph. For the sake of simplicity, you can assume that edges are only between locations which had a valid taxi trip between them. \n",
    "\n",
    "Part 2. [20 pts] Implement the succAndCost fucntion that returns all the connected nodes from the passed node.\n",
    "And implement the heuristic fucntion using geopy\n",
    "\n",
    "#### Note: You can install geopy using the command\n",
    "     pip install geopy\n",
    "\n",
    "Part 3. [60 pts] \n",
    "\n",
    "\n",
    "*   Implement the Uniform Cost search where you can use the trip distances as the edge costs. The program should input two node ids from the user and output the path as well as the cost between them. \n",
    "*   Implement A∗ search using a heuristic. One idea of a heuristic value is to use straight line distance between 2 points. This can be computed using the geopy package. The program should input two node ids from the user and output the path as well as the cost between them. "
   ]
  },
  {
   "cell_type": "code",
   "execution_count": 1,
   "metadata": {
    "id": "QV_IYemPuSes"
   },
   "outputs": [],
   "source": [
    "# Required libraries\n",
    "import pandas as pd\n",
    "from tqdm import tqdm\n",
    "from geopy import distance\n",
    "import heapq, collections, re, sys, time, os, random"
   ]
  },
  {
   "cell_type": "code",
   "execution_count": 2,
   "metadata": {
    "colab": {
     "base_uri": "https://localhost:8080/",
     "height": 81
    },
    "id": "QV17RQczuZ_b",
    "outputId": "be23c7de-2db8-4202-8461-b22f47ad4cef"
   },
   "outputs": [
    {
     "data": {
      "text/html": [
       "<div>\n",
       "<style scoped>\n",
       "    .dataframe tbody tr th:only-of-type {\n",
       "        vertical-align: middle;\n",
       "    }\n",
       "\n",
       "    .dataframe tbody tr th {\n",
       "        vertical-align: top;\n",
       "    }\n",
       "\n",
       "    .dataframe thead th {\n",
       "        text-align: right;\n",
       "    }\n",
       "</style>\n",
       "<table border=\"1\" class=\"dataframe\">\n",
       "  <thead>\n",
       "    <tr style=\"text-align: right;\">\n",
       "      <th></th>\n",
       "      <th>pickup_longitude</th>\n",
       "      <th>pickup_latitude</th>\n",
       "      <th>dropoff_longitude</th>\n",
       "      <th>dropoff_latitude</th>\n",
       "      <th>trip_distance</th>\n",
       "      <th>nodeid1</th>\n",
       "      <th>nodeid2</th>\n",
       "    </tr>\n",
       "  </thead>\n",
       "  <tbody>\n",
       "    <tr>\n",
       "      <th>0</th>\n",
       "      <td>-73.9641</td>\n",
       "      <td>40.7614</td>\n",
       "      <td>-73.978</td>\n",
       "      <td>40.7831</td>\n",
       "      <td>2.4</td>\n",
       "      <td>48293</td>\n",
       "      <td>28440</td>\n",
       "    </tr>\n",
       "  </tbody>\n",
       "</table>\n",
       "</div>"
      ],
      "text/plain": [
       "   pickup_longitude  pickup_latitude  dropoff_longitude  dropoff_latitude  \\\n",
       "0          -73.9641          40.7614            -73.978           40.7831   \n",
       "\n",
       "   trip_distance  nodeid1  nodeid2  \n",
       "0            2.4    48293    28440  "
      ]
     },
     "execution_count": 2,
     "metadata": {},
     "output_type": "execute_result"
    }
   ],
   "source": [
    "data_NYC = pd.read_csv(\"NYC_dataset.csv\")\n",
    "data_NYC.head(1)"
   ]
  },
  {
   "cell_type": "code",
   "execution_count": 3,
   "metadata": {
    "id": "B7miUbyGudlc"
   },
   "outputs": [],
   "source": [
    "def plot_nodes_edges(node1, node2, cost, graph):\n",
    "    \"\"\" Convert a graph in the format of pandas DF as Node 1, Node2, cost into dictionary. \n",
    "        Replace the code between ##### with the correct implementation. \n",
    "\n",
    "        Note that your code needs to work for any input, not just for the one example below. \n",
    "\n",
    "        Input:\n",
    "              Node 1, Node 2, Cost(\ttrip_distance) \n",
    "              \n",
    "              example :- 48293, 28440, 2.40\n",
    "        Output: \n",
    "              return graph (Add Key as Node and value as its relevent node and cost)\n",
    "\n",
    "              Example :- \n",
    "              {48293: {2.4: 28440},\n",
    "               28440: {2.4: 48293}}\n",
    "              \"\"\"\n",
    "\n",
    "    node_cost = {}\n",
    "    ##############################################START HERE##############################################\n",
    "    # Part 1 (20 pt)\n",
    "  \n",
    "    if node1 in graph:\n",
    "        graph[node1][cost] = node2\n",
    "    else:\n",
    "        graph[node1] = {cost: node2}\n",
    "    \n",
    "    # node 2\n",
    "    if node2 in graph:\n",
    "        graph[node2][cost] = node1\n",
    "    else:\n",
    "        graph[node2] = {cost: node1}\n",
    "    \n",
    "    ##############################################END HERE################################################\n",
    "    return graph\n",
    "    \n",
    "\n",
    "def create_nodes_edges(dataset):\n",
    "    graph = {}\n",
    "    for i in tqdm(range(dataset.shape[0])):\n",
    "        graph = plot_nodes_edges(dataset.nodeid1[i], dataset.nodeid2[i], dataset.trip_distance[i], graph)\n",
    "        graph = plot_nodes_edges(dataset.nodeid2[i], dataset.nodeid1[i], dataset.trip_distance[i], graph)\n",
    "    return graph \n",
    "\n",
    "    \n",
    "def extract_longitude_latitude(dataset):\n",
    "    \"\"\" Input : \n",
    "              (nodeid1, pickup_latitude, pickup_longitude), Here we want to connect each node \n",
    "              with its pickup_longitude & pickup_latitude\n",
    "              (nodeid2, pickup_latitude, pickup_longitude), Here we want to connect each node \n",
    "              with its dropoff_longitude & dropoff_latitude\n",
    "        Output : \n",
    "              {node : [latitude, longitude]} \"\"\"\n",
    "    node_lat_long = {}\n",
    "    for i in tqdm(range(dataset.shape[0])):\n",
    "        node_lat_long[dataset.nodeid1[i]] = [dataset.pickup_latitude[i],dataset.pickup_longitude[i]]\n",
    "        node_lat_long[dataset.nodeid2[i]] = [dataset.dropoff_latitude[i],dataset.dropoff_longitude[i]]\n",
    "    return  node_lat_long"
   ]
  },
  {
   "cell_type": "code",
   "execution_count": 4,
   "metadata": {
    "colab": {
     "base_uri": "https://localhost:8080/"
    },
    "id": "24viIfde6XWY",
    "outputId": "7bddd7f6-5d91-4356-d11a-4e959bfa4a3c"
   },
   "outputs": [
    {
     "name": "stderr",
     "output_type": "stream",
     "text": [
      "100%|███████████████████████████████████████████████████████████████████████| 168152/168152 [00:07<00:00, 23997.84it/s]\n"
     ]
    }
   ],
   "source": [
    "graph = create_nodes_edges(data_NYC)"
   ]
  },
  {
   "cell_type": "code",
   "execution_count": 5,
   "metadata": {
    "colab": {
     "base_uri": "https://localhost:8080/"
    },
    "id": "DYd3H8XpLUJ4",
    "outputId": "a5417805-d607-4c5e-a468-cabb3be7a3ad"
   },
   "outputs": [
    {
     "name": "stderr",
     "output_type": "stream",
     "text": [
      "100%|███████████████████████████████████████████████████████████████████████| 168152/168152 [00:06<00:00, 24685.81it/s]\n"
     ]
    }
   ],
   "source": [
    "# calling create_nodes_edges fucntion\n",
    "node_lat_long = extract_longitude_latitude(data_NYC)"
   ]
  },
  {
   "cell_type": "code",
   "execution_count": 6,
   "metadata": {
    "id": "XzNDNujhwte8"
   },
   "outputs": [],
   "source": [
    "# Data structure for supporting uniform cost search.\n",
    "class PriorityQueue:\n",
    "    def  __init__(self):\n",
    "        self.DONE = -100000\n",
    "        self.heap = []\n",
    "        self.priorities = {}  # Map from state to priority\n",
    "\n",
    "    # Insert |state| into the heap with priority |newPriority| if\n",
    "    # |state| isn't in the heap or |newPriority| is smaller than the existing\n",
    "    # priority.\n",
    "    # Return whether the priority queue was updated.\n",
    "    def update(self, node, newCost, newHistory):\n",
    "        oldCost = self.priorities.get(node, None)\n",
    "        if oldCost == None or newCost < oldCost:\n",
    "            self.priorities[node] = newCost\n",
    "            heapq.heappush(self.heap, (newCost, node, newHistory))\n",
    "            return True\n",
    "        return False\n",
    "\n",
    "    # Returns (state with minimum priority, priority)\n",
    "    # or (None, None) if the priority queue is empty.\n",
    "    def removeMin(self):\n",
    "        while len(self.heap) > 0:\n",
    "            priority, state, history = heapq.heappop(self.heap)\n",
    "            if self.priorities[state] == self.DONE: continue  # Outdated priority, skip\n",
    "            self.priorities[state] = self.DONE\n",
    "            return (state, priority, history)\n",
    "        return (None, None, None) # Nothing left..."
   ]
  },
  {
   "cell_type": "code",
   "execution_count": 7,
   "metadata": {
    "id": "iwwnPTi5wu5g"
   },
   "outputs": [],
   "source": [
    "class PathFinding(object):\n",
    "    def __init__(self, graph, node_lat_long, start_position, end_position):\n",
    "        self.graph = graph\n",
    "        self.node_lat_long = node_lat_long\n",
    "        self.start_node = start_position\n",
    "        self.end_node = end_position\n",
    "        \n",
    "    def startState(self):\n",
    "        return self.start_node\n",
    "    \n",
    "    def succAndCost(self, current_node):\n",
    "        \"\"\" \n",
    "            In this Funciton we have to return all the nodes that are connected to the current_node. \n",
    "            \n",
    "            Note that your code needs to work for any input, not just for the one example below. \n",
    "\n",
    "            Input:\n",
    "                  curent_node\n",
    "            output: \n",
    "            children: all the nodes that are connected to the current node and it's cost.\n",
    "            Example: children = [(node1,cost1), (node2, cost2)]\n",
    "        \"\"\"\n",
    "        # Generate children\n",
    "        children = []\n",
    "        ##############################################START HERE##############################################\n",
    "        # Part 2.1 (10 pt)\n",
    "        for cost, next_node in self.graph[current_node].items():\n",
    "            children.append((next_node, cost))\n",
    "\n",
    "        ##############################################END HERE################################################        \n",
    "        return children\n",
    "    \n",
    "    def isEnd(self, current_node):\n",
    "        return self.end_node == current_node\n",
    "    \n",
    "    def heuristic(self, node):\n",
    "        \n",
    "        \"\"\" \n",
    "          In this function you need to return the heuristic value of node. \n",
    "          Input: \n",
    "              Input will be the node\n",
    "          Output: \n",
    "              Output will the distance between the node and the end node, please use distance.geodesic to compute the actual distance between two nodes\n",
    "        \"\"\"\n",
    "        ##############################################START HERE##############################################\n",
    "          # Part 2.2 (10 pt)\n",
    "        node_lat_long = self.node_lat_long\n",
    "        \n",
    "        # get the starting node and end node\n",
    "        start = node_lat_long[node]\n",
    "        end = node_lat_long[self.end_node]\n",
    "        \n",
    "        # calculate geodesic distance (in km)\n",
    "        return distance.geodesic(start, end).km\n",
    "\n",
    "        ##############################################END HERE################################################"
   ]
  },
  {
   "cell_type": "code",
   "execution_count": 8,
   "metadata": {
    "id": "AsCMkYErwwNf"
   },
   "outputs": [],
   "source": [
    "def printSolution(solution):\n",
    "    totalCost, history = solution\n",
    "    print_history = 'Starting Node' \n",
    "    for node in history:\n",
    "        print_history += ' -> ' + str(node)\n",
    "    print(print_history)\n",
    "    print('totalCost: {}'.format(totalCost))"
   ]
  },
  {
   "cell_type": "code",
   "execution_count": 9,
   "metadata": {
    "id": "B0oK37-oMjpl"
   },
   "outputs": [],
   "source": [
    "def astar(problem):\n",
    "    frontier = PriorityQueue()\n",
    "    explored = set([])\n",
    "    \"\"\" \n",
    "        In this function you have to write an algorithm to calculate the path with the minimum cost using A* Search \n",
    "        by calculating it's heuristic cost. Replace the code between the #### with the correct implementation. \n",
    "        Input:\n",
    "              Input will be an object of the class PathFinding\n",
    "        Output:\n",
    "              return cost, history\n",
    "              (history: Path from start node to the end node\n",
    "              cost: Cost to travel from start node to end node)\n",
    "\n",
    "                              OR\n",
    "\n",
    "              return False \n",
    "              (if no path is found between Start node and End node)\n",
    "    \"\"\"\n",
    "\n",
    "    ##############################################START HERE##############################################\n",
    "    # Part 3 (30 pt)\n",
    "    start_node = problem.startState()\n",
    "    frontier.update(start_node, problem.heuristic(start_node), [])\n",
    "    \n",
    "    # algorithm similar to example done in class\n",
    "    # difference is in succAndCost function\n",
    "    # get the first value in the tuple\n",
    "    while True:\n",
    "      # Move the minimum cost node from frontier to explored\n",
    "        current_node, pastCost, history = frontier.removeMin()\n",
    "        # check if current_node and pastCost is None\n",
    "        if current_node == None and pastCost == None:\n",
    "            return -1, []\n",
    "        explored.add(current_node)\n",
    "        if problem.isEnd(current_node):\n",
    "            # TODO: return the past cost and history\n",
    "            return (pastCost, history)\n",
    "        current_node_heuristic = problem.heuristic(current_node)\n",
    "        for child_node, _ in problem.succAndCost(current_node):\n",
    "            if child_node in explored: \n",
    "                continue\n",
    "            child_heusitic = problem.heuristic(child_node)\n",
    "            frontier.update(child_node, pastCost + 1 + child_heusitic - current_node_heuristic, history + [child_node])"
   ]
  },
  {
   "cell_type": "code",
   "execution_count": 10,
   "metadata": {
    "id": "sQZj2NSwM-aC"
   },
   "outputs": [],
   "source": [
    "def UCS(problem):\n",
    "    frontier = PriorityQueue()\n",
    "    explored = set([])\n",
    "    ##############################################START HERE##############################################\n",
    "    # Part 3 (30 pt)\n",
    "\n",
    "    s_start = problem.startState()\n",
    "\n",
    "    # add s_start to frontier\n",
    "    frontier.update(s_start, 0, [])\n",
    "\n",
    "    # repeat until frontier is empty\n",
    "    while True:\n",
    "        # remove s with smallest priority p from frontier\n",
    "        s, p, hist = frontier.removeMin()\n",
    "        \n",
    "        # check if value of s and p is None\n",
    "        # this indicates no path available\n",
    "        if s == None and p == None:\n",
    "            # return no history and cost -1\n",
    "            return -1, []\n",
    "\n",
    "        # if isEnd, return solution\n",
    "        if problem.isEnd(s):\n",
    "            return p, hist\n",
    "\n",
    "        # add s to explored\n",
    "        explored.add(s)\n",
    "\n",
    "        for s_, cost in problem.succAndCost(s):\n",
    "            # if s' in explored\n",
    "            if s_ in explored:\n",
    "                continue\n",
    "            # update frontier with s' and priority p + cost(s,a)\n",
    "            frontier.update(s_, p + cost, hist + [(s_, cost)])\n",
    "\n",
    "    ##############################################END HERE################################################"
   ]
  },
  {
   "cell_type": "code",
   "execution_count": 11,
   "metadata": {
    "id": "jQ1SvEnQObUO"
   },
   "outputs": [],
   "source": [
    "\"\"\"\n",
    "    Below are some of the test cases that you can try\n",
    "    Start Node = 129891 | End Node = 7381\n",
    "    Start Node = 51080 | End Node 79375\n",
    "\n",
    "\"\"\"\n",
    "start_node = 51080\n",
    "end_node = 79375\n",
    "problem = PathFinding(graph, node_lat_long, start_node, end_node)"
   ]
  },
  {
   "cell_type": "code",
   "execution_count": 12,
   "metadata": {
    "colab": {
     "base_uri": "https://localhost:8080/"
    },
    "id": "uxiej_VcM8D4",
    "outputId": "cdcebdb7-5055-4d2d-bca4-70ed58c5df2e"
   },
   "outputs": [
    {
     "name": "stdout",
     "output_type": "stream",
     "text": [
      "Starting Node -> 124532 -> 44367 -> 101256 -> 50978 -> 139637 -> 32529 -> 141978 -> 55449 -> 115718 -> 79375\n",
      "totalCost: 10.000000000000002\n"
     ]
    }
   ],
   "source": [
    "# Astart Algorithm\n",
    "# Calling the function\n",
    "astart_path_cost = astar(problem)\n",
    "\n",
    "# Checking if returned value have cost and history or not\n",
    "if astart_path_cost != False:\n",
    "    printSolution(astart_path_cost)"
   ]
  },
  {
   "cell_type": "code",
   "execution_count": 13,
   "metadata": {
    "colab": {
     "base_uri": "https://localhost:8080/"
    },
    "id": "pEPR9rrINn9w",
    "outputId": "1bc5d497-eb59-406f-aa1d-4b14a93b5c9e"
   },
   "outputs": [
    {
     "name": "stdout",
     "output_type": "stream",
     "text": [
      "Starting Node -> (124532, 1.18) -> (44367, 2.1) -> (101256, 1.1) -> (50978, 0.99) -> (139637, 0.5) -> (32529, 1.4) -> (141978, 1.1) -> (55449, 1.78) -> (115718, 1.4) -> (79375, 2.1)\n",
      "totalCost: 13.65\n"
     ]
    }
   ],
   "source": [
    "# UCS Algorithm\n",
    "# Calling the function\n",
    "astart_path_cost = UCS(problem)\n",
    "\n",
    "# Checking if returned value have cost and history or not\n",
    "if astart_path_cost != False:\n",
    "    printSolution(astart_path_cost)"
   ]
  },
  {
   "cell_type": "code",
   "execution_count": 14,
   "metadata": {},
   "outputs": [
    {
     "name": "stdout",
     "output_type": "stream",
     "text": [
      "========================================\n",
      "Test Case with path available: \n",
      "========================================\n",
      "\n",
      "UCS with Start = 129891 and End = 10666: \n",
      "Starting Node -> (134204, 0.53) -> (102266, 1.24) -> (47620, 1.44) -> (10470, 0.52) -> (140016, 1.3) -> (121478, 2.77) -> (87417, 0.93) -> (96990, 1.12) -> (93345, 0.53) -> (7651, 1.8) -> (46547, 1.0) -> (10666, 2.5)\n",
      "totalCost: 15.680000000000001\n",
      "\n",
      "A* with Start = 129891 and End = 10666: \n",
      "Starting Node -> 61208 -> 85044 -> 112281 -> 139234 -> 21676 -> 96562 -> 54431 -> 46547 -> 10666\n",
      "totalCost: 9.000000000000004\n",
      "\n",
      "UCS with Start = 51080 and End = 79375: \n",
      "Starting Node -> (124532, 1.18) -> (44367, 2.1) -> (101256, 1.1) -> (50978, 0.99) -> (139637, 0.5) -> (32529, 1.4) -> (141978, 1.1) -> (55449, 1.78) -> (115718, 1.4) -> (79375, 2.1)\n",
      "totalCost: 13.65\n",
      "\n",
      "A* with Start = 51080 and End = 79375: \n",
      "Starting Node -> 124532 -> 44367 -> 101256 -> 50978 -> 139637 -> 32529 -> 141978 -> 55449 -> 115718 -> 79375\n",
      "totalCost: 10.000000000000002\n",
      "\n",
      "========================================\n",
      "Test Case with no path available: \n",
      "========================================\n",
      "\n",
      "UCS with Start = 129891 and End = 7381: \n",
      "Starting Node\n",
      "totalCost: -1\n",
      "\n",
      "A* with Start = 129891 and End = 7381: \n",
      "Starting Node\n",
      "totalCost: -1\n",
      "\n",
      "UCS with Start = 7381 and End = 10666: \n",
      "Starting Node\n",
      "totalCost: -1\n",
      "\n",
      "A* with Start = 7381 and End = 10666: \n",
      "Starting Node\n",
      "totalCost: -1\n",
      "\n"
     ]
    }
   ],
   "source": [
    "src = [129891, 51080, 129891, 7381]\n",
    "dest = [10666, 79375, 7381, 10666]\n",
    "\n",
    "for i in range(len(src)):\n",
    "    if i == 0:\n",
    "        print(\"========================================\")\n",
    "        print(\"Test Case with path available: \")\n",
    "        print(\"========================================\")\n",
    "        print()\n",
    "    if i == 2:\n",
    "        print(\"========================================\")\n",
    "        print(\"Test Case with no path available: \")\n",
    "        print(\"========================================\")\n",
    "        print()\n",
    "        \n",
    "    problem = PathFinding(graph, node_lat_long, src[i], dest[i])\n",
    "    print(f\"UCS with Start = {src[i]} and End = {dest[i]}: \")\n",
    "    \n",
    "    # UCS\n",
    "    ucs_cost = UCS(problem)\n",
    "    \n",
    "    if ucs_cost != False:\n",
    "        printSolution(ucs_cost)\n",
    "        print()\n",
    "    \n",
    "    print(f\"A* with Start = {src[i]} and End = {dest[i]}: \")\n",
    "    \n",
    "    # A*\n",
    "    astar_cost = astar(problem)\n",
    "    \n",
    "    if astar_cost != False:\n",
    "        printSolution(astar_cost)\n",
    "        print()"
   ]
  },
  {
   "cell_type": "code",
   "execution_count": null,
   "metadata": {},
   "outputs": [],
   "source": []
  }
 ],
 "metadata": {
  "colab": {
   "provenance": []
  },
  "kernelspec": {
   "display_name": "Python 3 (ipykernel)",
   "language": "python",
   "name": "python3"
  },
  "language_info": {
   "codemirror_mode": {
    "name": "ipython",
    "version": 3
   },
   "file_extension": ".py",
   "mimetype": "text/x-python",
   "name": "python",
   "nbconvert_exporter": "python",
   "pygments_lexer": "ipython3",
   "version": "3.11.2"
  }
 },
 "nbformat": 4,
 "nbformat_minor": 1
}
